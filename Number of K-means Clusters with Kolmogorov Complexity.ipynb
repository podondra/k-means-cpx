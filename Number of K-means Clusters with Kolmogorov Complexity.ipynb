{
 "cells": [
  {
   "cell_type": "markdown",
   "metadata": {},
   "source": [
    "Author: Ond\\v{r}ej Podsztavek\n",
    "\n",
    "# Introduction\n",
    "\n",
    "This project address the problem of hyperparameter optimization or model selection problem with Kolomogorov Complexity. It is focused determining the best number of [K-means](https://cs.wikipedia.org/wiki/K-means) clusters using the minimum description length principle.\n",
    "\n",
    "## Minimum Description Length Principle (MDL)\n",
    "\n",
    "The best theory to describe observed data is the one which minimizes the sum of the description length (in bits) of:\n",
    "\n",
    "- the theory description,\n",
    "- the data encoded from the theory,\n",
    "\n",
    "MDL is provided by formula:\n",
    "\n",
    "$$\\hat{H} = \\arg \\min_{H_i} \\{C(H_i) + C(D|H_i)\\},$$\n",
    "\n",
    "where $\\hat{H}$ is the optimal theory, $C(\\cdot)$ computes description complexity, $H_i$ are proposed theories and $D$ are the data to be encoded from the theories.\n",
    "\n",
    "## Unsupervised Learning\n",
    "\n",
    "Unsupervised learning is in some sense compression. In both clustering and anomaly detection the problem is to find structure in given data, but finding structure means compressing the description of data.\n",
    "\n",
    "The aim of this project is to predict the best number of clusters in a data using MDL. Given decision function $h: \\mathcal{X} \\to \\mathcal{Y}$ (k-means), where $\\mathcal{X}$ and $\\mathcal{Y}$ are input and output space respectively, and $\\mathcal{D}_S = \\{(x_1, y_1), \\dots, (x_n, y_n)\\}$ is training set. A $\\hat{h}$ decision function should be found (k-means number of clusters and positions) such that:\n",
    "\n",
    "$$\\hat{h} = \\arg \\min_{h} \\{C(h) + C(\\mathcal{D}_S|h)\\}.$$\n",
    "\n",
    "The problem is that $C(\\cdot)$ is not computable. Therefore robust approximation need to be found.\n",
    "\n",
    "## Proposed Approach\n",
    "\n",
    "This project approximate description complexity of $C(\\mathcal{D}_S|h)\\}$ as complexity of locations to landmarks. Each data point $x_i$ complexity is given as distance to the nearest cluster center $\\mu_j$:\n",
    "\n",
    "$$C(\\mu_j) + d \\log(\\text{distance}(\\mu_j, x_j)),$$\n",
    "\n",
    "where $C(\\mu_i)$ may be assessed by $\\log(i)$ and $d$ is number of dimensions of the feature space.\n",
    "\n",
    "The description complexity of model $C(h)$ is approximated the memory usage in bits of all the cluster center coordinates as `numpy.float16` data type.\n",
    "\n",
    "# Experiments\n",
    "\n",
    "All experiments were carried out on the [Iris dataset](https://archive.ics.uci.edu/ml/datasets/iris). K-means clustering algorithm was run on the dataset with different number of clusters and complexity was calculated according to formulas in previous section. Figure 1 shows the results.\n",
    "\n",
    "![Figure 1: Complexity dependence on number of clusters](complexity_16.pdf)\n",
    "\n",
    "![Figure 2: Complexities when representing model with 32 bits float numbers](complexity_32.pdf)"
   ]
  },
  {
   "cell_type": "code",
   "execution_count": 1,
   "metadata": {},
   "outputs": [],
   "source": [
    "import numpy\n",
    "from matplotlib import pyplot\n",
    "from sklearn import datasets, cluster, metrics, preprocessing"
   ]
  },
  {
   "cell_type": "code",
   "execution_count": 2,
   "metadata": {},
   "outputs": [],
   "source": [
    "%matplotlib inline"
   ]
  },
  {
   "cell_type": "code",
   "execution_count": 3,
   "metadata": {},
   "outputs": [
    {
     "data": {
      "text/plain": [
       "(array([0, 1, 2]), 4)"
      ]
     },
     "execution_count": 3,
     "metadata": {},
     "output_type": "execute_result"
    }
   ],
   "source": [
    "iris = datasets.load_iris()\n",
    "X = iris.data\n",
    "labels = numpy.unique(iris.target)\n",
    "n_features = X.shape[1]\n",
    "labels, n_features"
   ]
  },
  {
   "cell_type": "code",
   "execution_count": 4,
   "metadata": {},
   "outputs": [
    {
     "name": "stdout",
     "output_type": "stream",
     "text": [
      "1 \t 617.861463986 \t 64.0 \t 681.861463986\n",
      "2 \t 416.189958155 \t 128.0 \t 544.189958155\n",
      "3 \t 365.520292505 \t 192.0 \t 557.520292505\n",
      "4 \t 383.075359567 \t 256.0 \t 639.075359567\n",
      "5 \t 362.681942525 \t 320.0 \t 682.681942525\n",
      "6 \t 388.617381272 \t 384.0 \t 772.617381272\n",
      "7 \t 385.594904863 \t 448.0 \t 833.594904863\n",
      "8 \t 398.398778102 \t 512.0 \t 910.398778102\n",
      "9 \t 418.749878553 \t 576.0 \t 994.749878553\n",
      "10 \t 391.71548128 \t 640.0 \t 1031.71548128\n",
      "11 \t 411.664376862 \t 704.0 \t 1115.66437686\n"
     ]
    }
   ],
   "source": [
    "def calculate_complexities(X, max_clusters=20):\n",
    "    ks = numpy.arange(1, 12)\n",
    "    complexities = numpy.zeros((len(ks), 2))\n",
    "\n",
    "    for k in ks:\n",
    "        # TODO the random_state?\n",
    "        kmeans = cluster.KMeans(n_clusters=k, random_state=0)\n",
    "        # fit the model\n",
    "        kmeans.fit(X)\n",
    "        # compute the distances to cluster centers\n",
    "        distances = metrics.pairwise.euclidean_distances(X, kmeans.cluster_centers_)\n",
    "        # get the only distances to nearest cluster center\n",
    "        shortest_distances = distances[numpy.arange(len(distances)), kmeans.labels_]\n",
    "        \n",
    "        # approximate the complexity by distance to nearest cluster center\n",
    "        points_complexity = numpy.sum(numpy.log1p(kmeans.labels_) + n_features * numpy.log1p(shortest_distances))\n",
    "        \n",
    "        # calculate the model complexity\n",
    "        model_complexity = kmeans.cluster_centers_.astype(numpy.float16).nbytes * 8\n",
    "        \n",
    "        complexities[k - 1] = [points_complexity, model_complexity]\n",
    "\n",
    "    return ks, complexities\n",
    "\n",
    "ks, complexities = calculate_complexities(X)\n",
    "for k, (points_complexity, model_complexity) in zip(ks, complexities):\n",
    "    print(k, '\\t', points_complexity, '\\t', model_complexity, '\\t', points_complexity + model_complexity)"
   ]
  },
  {
   "cell_type": "code",
   "execution_count": 5,
   "metadata": {
    "scrolled": true
   },
   "outputs": [
    {
     "data": {
      "image/png": "[encoded data removed]",
      "text/plain": [
       "<matplotlib.figure.Figure at 0x7fa5e8ddb048>"
      ]
     },
     "metadata": {},
     "output_type": "display_data"
    }
   ],
   "source": [
    "def plot_complexities(ks, complexities):\n",
    "    pyplot.scatter(ks, complexities[:, 0], marker='x', label='points complexity')\n",
    "    pyplot.scatter(ks, complexities[:, 1], marker='x', label='model complexity')\n",
    "    pyplot.scatter(ks, numpy.sum(complexities, axis=1), marker='x', label='overall complexity')\n",
    "    pyplot.xticks(ks)\n",
    "    pyplot.legend()\n",
    "    pyplot.grid(True)\n",
    "    pyplot.xlabel('number of clusters')\n",
    "    pyplot.ylabel('complexity (bits)')\n",
    "\n",
    "plot_complexities(ks, complexities)\n",
    "\n",
    "pyplot.savefig('complexity_16.pdf')"
   ]
  },
  {
   "cell_type": "markdown",
   "metadata": {},
   "source": [
    "From this experiment is obvious that this approach is not able to find optimal number of clusters because there are 3 classes in Iris dataset. The main problem is that it depends on the data type used from model representation. In figure 2 `numpy.float32` was used and the result completely follows the problem.\n",
    "\n",
    "# Conclusion\n",
    "\n",
    "In conclusion, it might be concluded that the approach proposed in this project is not robust approximation and depends on model representation. But it is close to actual optimal value of clusters. On the other hand this area is great opportunity for other studies as it would provide intuitive and simple formula for model selection or hyperparameter optimization if robust approximation of description complexity can be found."
   ]
  }
 ],
 "metadata": {
  "kernelspec": {
   "display_name": "Python 3",
   "language": "python",
   "name": "python3"
  },
  "language_info": {
   "codemirror_mode": {
    "name": "ipython",
    "version": 3
   },
   "file_extension": ".py",
   "mimetype": "text/x-python",
   "name": "python",
   "nbconvert_exporter": "python",
   "pygments_lexer": "ipython3",
   "version": "3.6.3"
  }
 },
 "nbformat": 4,
 "nbformat_minor": 2
}
